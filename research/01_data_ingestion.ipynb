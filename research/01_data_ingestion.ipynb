{
 "cells": [
  {
   "cell_type": "code",
   "id": "initial_id",
   "metadata": {
    "collapsed": true,
    "ExecuteTime": {
     "end_time": "2024-05-17T06:44:39.189993Z",
     "start_time": "2024-05-17T06:44:39.181475Z"
    }
   },
   "source": "import os",
   "outputs": [],
   "execution_count": 1
  },
  {
   "metadata": {
    "ExecuteTime": {
     "end_time": "2024-05-17T06:44:39.245350Z",
     "start_time": "2024-05-17T06:44:39.235251Z"
    }
   },
   "cell_type": "code",
   "source": "%pwd",
   "id": "17d4eaf7c9b9104f",
   "outputs": [
    {
     "data": {
      "text/plain": [
       "'C:\\\\Users\\\\sraj2\\\\PycharmProjects\\\\chest-cancer-classification\\\\research'"
      ]
     },
     "execution_count": 2,
     "metadata": {},
     "output_type": "execute_result"
    }
   ],
   "execution_count": 2
  },
  {
   "metadata": {
    "ExecuteTime": {
     "end_time": "2024-05-17T06:44:57.294105Z",
     "start_time": "2024-05-17T06:44:57.277078Z"
    }
   },
   "cell_type": "code",
   "source": "os.chdir(\"../\")",
   "id": "44dee2c485f7cc3",
   "outputs": [],
   "execution_count": 3
  },
  {
   "metadata": {
    "ExecuteTime": {
     "end_time": "2024-05-17T06:45:00.041819Z",
     "start_time": "2024-05-17T06:45:00.028778Z"
    }
   },
   "cell_type": "code",
   "source": "%pwd",
   "id": "fc36ab7758a69b5c",
   "outputs": [
    {
     "data": {
      "text/plain": [
       "'C:\\\\Users\\\\sraj2\\\\PycharmProjects\\\\chest-cancer-classification'"
      ]
     },
     "execution_count": 4,
     "metadata": {},
     "output_type": "execute_result"
    }
   ],
   "execution_count": 4
  },
  {
   "metadata": {
    "ExecuteTime": {
     "end_time": "2024-05-17T06:51:36.215088Z",
     "start_time": "2024-05-17T06:51:36.195556Z"
    }
   },
   "cell_type": "code",
   "source": [
    "from dataclasses import dataclass\n",
    "from pathlib import Path\n",
    "\n",
    "@dataclass(frozen=True)\n",
    "class DataIngestionConfig:\n",
    "    root_dir: Path\n",
    "    source_URL: str\n",
    "    local_data_file: Path\n",
    "    unzip_dir: Path"
   ],
   "id": "3bda2491ee5803af",
   "outputs": [],
   "execution_count": 5
  },
  {
   "metadata": {
    "ExecuteTime": {
     "end_time": "2024-05-17T06:56:52.592669Z",
     "start_time": "2024-05-17T06:56:52.243866Z"
    }
   },
   "cell_type": "code",
   "source": [
    "from cnnClassifier.constants import *\n",
    "from cnnClassifier.utils.common import read_yaml,create_directories"
   ],
   "id": "5eb83c8a3d2a3884",
   "outputs": [],
   "execution_count": 6
  },
  {
   "metadata": {
    "ExecuteTime": {
     "end_time": "2024-05-17T07:05:53.393479Z",
     "start_time": "2024-05-17T07:05:53.374018Z"
    }
   },
   "cell_type": "code",
   "source": [
    "class ConfigurationManager:\n",
    "    def __init__(self, config_filepath = CONFIG_FILE_PATH, params_filepath = PARAMS_FILE_PATH):\n",
    "        self.config = read_yaml(config_filepath)\n",
    "        self.params = read_yaml(params_filepath)\n",
    "        \n",
    "        create_directories([self.config.artifacts_root])\n",
    "        \n",
    "    def get_data_ingestion_config(self) -> DataIngestionConfig:\n",
    "        config = self.config.data_ingestion\n",
    "\n",
    "        create_directories([config.root_dir])\n",
    "\n",
    "        data_ingestion_config = DataIngestionConfig(\n",
    "            root_dir=config.root_dir,\n",
    "            source_URL=config.source_URL,\n",
    "            local_data_file=config.local_data_file,\n",
    "            unzip_dir=config.unzip_dir \n",
    "        )\n",
    "\n",
    "        return data_ingestion_config"
   ],
   "id": "3d9a33835e2f8f9",
   "outputs": [],
   "execution_count": 7
  },
  {
   "metadata": {
    "ExecuteTime": {
     "end_time": "2024-05-17T07:06:54.022229Z",
     "start_time": "2024-05-17T07:06:53.823307Z"
    }
   },
   "cell_type": "code",
   "source": [
    "import os\n",
    "import zipfile\n",
    "import gdown\n",
    "from cnnClassifier import logger\n",
    "from cnnClassifier.utils.common import get_size"
   ],
   "id": "af8815e10beca5d7",
   "outputs": [],
   "execution_count": 8
  },
  {
   "metadata": {
    "ExecuteTime": {
     "end_time": "2024-05-17T07:07:20.774764Z",
     "start_time": "2024-05-17T07:07:20.758861Z"
    }
   },
   "cell_type": "code",
   "source": [
    "class DataIngestion:\n",
    "    def __init__(self, config: DataIngestionConfig):\n",
    "        self.config = config\n",
    "\n",
    "\n",
    "    \n",
    "     \n",
    "    def download_file(self)-> str:\n",
    "        '''\n",
    "        Fetch data from the url\n",
    "        '''\n",
    "\n",
    "        try: \n",
    "            dataset_url = self.config.source_URL\n",
    "            zip_download_dir = self.config.local_data_file\n",
    "            os.makedirs(\"artifacts/data_ingestion\", exist_ok=True)\n",
    "            logger.info(f\"Downloading data from {dataset_url} into file {zip_download_dir}\")\n",
    "\n",
    "            file_id = dataset_url.split(\"/\")[-2]\n",
    "            prefix = 'https://drive.google.com/uc?/export=download&id='\n",
    "            gdown.download(prefix+file_id,zip_download_dir)\n",
    "\n",
    "            logger.info(f\"Downloaded data from {dataset_url} into file {zip_download_dir}\")\n",
    "\n",
    "        except Exception as e:\n",
    "            raise e\n",
    "        \n",
    "    \n",
    "    def extract_zip_file(self):\n",
    "        \"\"\"\n",
    "        zip_file_path: str\n",
    "        Extracts the zip file into the data directory\n",
    "        Function returns None\n",
    "        \"\"\"\n",
    "        unzip_path = self.config.unzip_dir\n",
    "        os.makedirs(unzip_path, exist_ok=True)\n",
    "        with zipfile.ZipFile(self.config.local_data_file, 'r') as zip_ref:\n",
    "            zip_ref.extractall(unzip_path)"
   ],
   "id": "924aa04d4124060c",
   "outputs": [],
   "execution_count": 9
  },
  {
   "metadata": {
    "ExecuteTime": {
     "end_time": "2024-05-17T07:10:33.453094Z",
     "start_time": "2024-05-17T07:10:32.755530Z"
    }
   },
   "cell_type": "code",
   "source": [
    "try:\n",
    "    config = ConfigurationManager()\n",
    "    data_ingestion_config = config.get_data_ingestion_config()\n",
    "    data_ingestion = DataIngestion(config=data_ingestion_config)\n",
    "    data_ingestion.download_file()\n",
    "    data_ingestion.extract_zip_file()\n",
    "except Exception as e:\n",
    "    raise e"
   ],
   "id": "e489cc4bfd7ba445",
   "outputs": [
    {
     "name": "stdout",
     "output_type": "stream",
     "text": [
      "[2024-05-17 12:40:32,761: INFO: common: yaml file: config\\config.yaml loaded successfully]\n",
      "[2024-05-17 12:40:32,771: INFO: common: yaml file: params.yaml loaded successfully]\n"
     ]
    },
    {
     "ename": "ValueError",
     "evalue": "yaml file is empty",
     "output_type": "error",
     "traceback": [
      "\u001B[1;31m---------------------------------------------------------------------------\u001B[0m",
      "\u001B[1;31mBoxValueError\u001B[0m                             Traceback (most recent call last)",
      "File \u001B[1;32m~\\PycharmProjects\\chest-cancer-classification\\src\\cnnClassifier\\utils\\common.py:32\u001B[0m, in \u001B[0;36mread_yaml\u001B[1;34m(path_to_yaml)\u001B[0m\n\u001B[0;32m     31\u001B[0m         logger\u001B[38;5;241m.\u001B[39minfo(\u001B[38;5;124mf\u001B[39m\u001B[38;5;124m\"\u001B[39m\u001B[38;5;124myaml file: \u001B[39m\u001B[38;5;132;01m{\u001B[39;00mpath_to_yaml\u001B[38;5;132;01m}\u001B[39;00m\u001B[38;5;124m loaded successfully\u001B[39m\u001B[38;5;124m\"\u001B[39m)\n\u001B[1;32m---> 32\u001B[0m         \u001B[38;5;28;01mreturn\u001B[39;00m \u001B[43mConfigBox\u001B[49m\u001B[43m(\u001B[49m\u001B[43mcontent\u001B[49m\u001B[43m)\u001B[49m\n\u001B[0;32m     33\u001B[0m \u001B[38;5;28;01mexcept\u001B[39;00m BoxValueError:\n",
      "File \u001B[1;32m~\\anaconda3\\envs\\cancerclassifier\\lib\\site-packages\\box\\box.py:247\u001B[0m, in \u001B[0;36mbox.box.Box.__init__\u001B[1;34m()\u001B[0m\n",
      "\u001B[1;31mBoxValueError\u001B[0m: Cannot extrapolate Box from string",
      "\nDuring handling of the above exception, another exception occurred:\n",
      "\u001B[1;31mValueError\u001B[0m                                Traceback (most recent call last)",
      "Cell \u001B[1;32mIn[10], line 8\u001B[0m\n\u001B[0;32m      6\u001B[0m     data_ingestion\u001B[38;5;241m.\u001B[39mextract_zip_file()\n\u001B[0;32m      7\u001B[0m \u001B[38;5;28;01mexcept\u001B[39;00m \u001B[38;5;167;01mException\u001B[39;00m \u001B[38;5;28;01mas\u001B[39;00m e:\n\u001B[1;32m----> 8\u001B[0m     \u001B[38;5;28;01mraise\u001B[39;00m e\n",
      "Cell \u001B[1;32mIn[10], line 2\u001B[0m\n\u001B[0;32m      1\u001B[0m \u001B[38;5;28;01mtry\u001B[39;00m:\n\u001B[1;32m----> 2\u001B[0m     config \u001B[38;5;241m=\u001B[39m \u001B[43mConfigurationManager\u001B[49m\u001B[43m(\u001B[49m\u001B[43m)\u001B[49m\n\u001B[0;32m      3\u001B[0m     data_ingestion_config \u001B[38;5;241m=\u001B[39m config\u001B[38;5;241m.\u001B[39mget_data_ingestion_config()\n\u001B[0;32m      4\u001B[0m     data_ingestion \u001B[38;5;241m=\u001B[39m DataIngestion(config\u001B[38;5;241m=\u001B[39mdata_ingestion_config)\n",
      "Cell \u001B[1;32mIn[7], line 4\u001B[0m, in \u001B[0;36mConfigurationManager.__init__\u001B[1;34m(self, config_filepath, params_filepath)\u001B[0m\n\u001B[0;32m      2\u001B[0m \u001B[38;5;28;01mdef\u001B[39;00m \u001B[38;5;21m__init__\u001B[39m(\u001B[38;5;28mself\u001B[39m, config_filepath \u001B[38;5;241m=\u001B[39m CONFIG_FILE_PATH, params_filepath \u001B[38;5;241m=\u001B[39m PARAMS_FILE_PATH):\n\u001B[0;32m      3\u001B[0m     \u001B[38;5;28mself\u001B[39m\u001B[38;5;241m.\u001B[39mconfig \u001B[38;5;241m=\u001B[39m read_yaml(config_filepath)\n\u001B[1;32m----> 4\u001B[0m     \u001B[38;5;28mself\u001B[39m\u001B[38;5;241m.\u001B[39mparams \u001B[38;5;241m=\u001B[39m \u001B[43mread_yaml\u001B[49m\u001B[43m(\u001B[49m\u001B[43mparams_filepath\u001B[49m\u001B[43m)\u001B[49m\n\u001B[0;32m      6\u001B[0m     create_directories([\u001B[38;5;28mself\u001B[39m\u001B[38;5;241m.\u001B[39mconfig\u001B[38;5;241m.\u001B[39martifacts_root])\n",
      "File \u001B[1;32m~\\anaconda3\\envs\\cancerclassifier\\lib\\site-packages\\ensure\\main.py:849\u001B[0m, in \u001B[0;36mWrappedFunctionReturn.__call__\u001B[1;34m(self, *args, **kwargs)\u001B[0m\n\u001B[0;32m    841\u001B[0m         msg \u001B[38;5;241m=\u001B[39m (\n\u001B[0;32m    842\u001B[0m             \u001B[38;5;124m\"\u001B[39m\u001B[38;5;124mArgument \u001B[39m\u001B[38;5;132;01m{arg}\u001B[39;00m\u001B[38;5;124m of type \u001B[39m\u001B[38;5;132;01m{valt}\u001B[39;00m\u001B[38;5;124m to \u001B[39m\u001B[38;5;132;01m{f}\u001B[39;00m\u001B[38;5;124m \u001B[39m\u001B[38;5;124m\"\u001B[39m\n\u001B[0;32m    843\u001B[0m             \u001B[38;5;124m\"\u001B[39m\u001B[38;5;124mdoes not match annotation type \u001B[39m\u001B[38;5;132;01m{t}\u001B[39;00m\u001B[38;5;124m\"\u001B[39m\n\u001B[0;32m    844\u001B[0m         )\n\u001B[0;32m    845\u001B[0m         \u001B[38;5;28;01mraise\u001B[39;00m EnsureError(msg\u001B[38;5;241m.\u001B[39mformat(\n\u001B[0;32m    846\u001B[0m             arg\u001B[38;5;241m=\u001B[39marg, f\u001B[38;5;241m=\u001B[39m\u001B[38;5;28mself\u001B[39m\u001B[38;5;241m.\u001B[39mf, t\u001B[38;5;241m=\u001B[39mtempl, valt\u001B[38;5;241m=\u001B[39m\u001B[38;5;28mtype\u001B[39m(value)\n\u001B[0;32m    847\u001B[0m         ))\n\u001B[1;32m--> 849\u001B[0m return_val \u001B[38;5;241m=\u001B[39m \u001B[38;5;28;43mself\u001B[39;49m\u001B[38;5;241;43m.\u001B[39;49m\u001B[43mf\u001B[49m\u001B[43m(\u001B[49m\u001B[38;5;241;43m*\u001B[39;49m\u001B[43margs\u001B[49m\u001B[43m,\u001B[49m\u001B[43m \u001B[49m\u001B[38;5;241;43m*\u001B[39;49m\u001B[38;5;241;43m*\u001B[39;49m\u001B[43mkwargs\u001B[49m\u001B[43m)\u001B[49m\n\u001B[0;32m    850\u001B[0m \u001B[38;5;28;01mif\u001B[39;00m \u001B[38;5;129;01mnot\u001B[39;00m \u001B[38;5;28misinstance\u001B[39m(return_val, \u001B[38;5;28mself\u001B[39m\u001B[38;5;241m.\u001B[39mreturn_templ):\n\u001B[0;32m    851\u001B[0m     msg \u001B[38;5;241m=\u001B[39m (\n\u001B[0;32m    852\u001B[0m         \u001B[38;5;124m\"\u001B[39m\u001B[38;5;124mReturn value of \u001B[39m\u001B[38;5;132;01m{f}\u001B[39;00m\u001B[38;5;124m of type \u001B[39m\u001B[38;5;132;01m{valt}\u001B[39;00m\u001B[38;5;124m \u001B[39m\u001B[38;5;124m\"\u001B[39m\n\u001B[0;32m    853\u001B[0m         \u001B[38;5;124m\"\u001B[39m\u001B[38;5;124mdoes not match annotation type \u001B[39m\u001B[38;5;132;01m{t}\u001B[39;00m\u001B[38;5;124m\"\u001B[39m\n\u001B[0;32m    854\u001B[0m     )\n",
      "File \u001B[1;32m~\\PycharmProjects\\chest-cancer-classification\\src\\cnnClassifier\\utils\\common.py:34\u001B[0m, in \u001B[0;36mread_yaml\u001B[1;34m(path_to_yaml)\u001B[0m\n\u001B[0;32m     32\u001B[0m         \u001B[38;5;28;01mreturn\u001B[39;00m ConfigBox(content)\n\u001B[0;32m     33\u001B[0m \u001B[38;5;28;01mexcept\u001B[39;00m BoxValueError:\n\u001B[1;32m---> 34\u001B[0m     \u001B[38;5;28;01mraise\u001B[39;00m \u001B[38;5;167;01mValueError\u001B[39;00m(\u001B[38;5;124m\"\u001B[39m\u001B[38;5;124myaml file is empty\u001B[39m\u001B[38;5;124m\"\u001B[39m)\n\u001B[0;32m     35\u001B[0m \u001B[38;5;28;01mexcept\u001B[39;00m \u001B[38;5;167;01mException\u001B[39;00m \u001B[38;5;28;01mas\u001B[39;00m e:\n\u001B[0;32m     36\u001B[0m     \u001B[38;5;28;01mraise\u001B[39;00m e\n",
      "\u001B[1;31mValueError\u001B[0m: yaml file is empty"
     ]
    }
   ],
   "execution_count": 10
  },
  {
   "metadata": {},
   "cell_type": "code",
   "outputs": [],
   "execution_count": null,
   "source": "",
   "id": "c5550dc321c4e81d"
  }
 ],
 "metadata": {
  "kernelspec": {
   "display_name": "Python 3",
   "language": "python",
   "name": "python3"
  },
  "language_info": {
   "codemirror_mode": {
    "name": "ipython",
    "version": 2
   },
   "file_extension": ".py",
   "mimetype": "text/x-python",
   "name": "python",
   "nbconvert_exporter": "python",
   "pygments_lexer": "ipython2",
   "version": "2.7.6"
  }
 },
 "nbformat": 4,
 "nbformat_minor": 5
}
