{
 "cells": [
  {
   "cell_type": "code",
   "id": "initial_id",
   "metadata": {
    "collapsed": true,
    "ExecuteTime": {
     "end_time": "2024-05-18T07:38:08.186605Z",
     "start_time": "2024-05-18T07:38:08.169223Z"
    }
   },
   "source": "import os",
   "outputs": [],
   "execution_count": 1
  },
  {
   "metadata": {
    "ExecuteTime": {
     "end_time": "2024-05-18T07:38:15.063561Z",
     "start_time": "2024-05-18T07:38:15.042800Z"
    }
   },
   "cell_type": "code",
   "source": "%pwd",
   "id": "556cf91ac8c7869d",
   "outputs": [
    {
     "data": {
      "text/plain": [
       "'C:\\\\Users\\\\sraj2\\\\PycharmProjects\\\\chest-cancer-classification\\\\research'"
      ]
     },
     "execution_count": 2,
     "metadata": {},
     "output_type": "execute_result"
    }
   ],
   "execution_count": 2
  },
  {
   "metadata": {
    "ExecuteTime": {
     "end_time": "2024-05-18T07:38:24.594483Z",
     "start_time": "2024-05-18T07:38:24.578513Z"
    }
   },
   "cell_type": "code",
   "source": "os.chdir(\"../\")",
   "id": "33cc0636942fe8b",
   "outputs": [],
   "execution_count": 3
  },
  {
   "metadata": {
    "ExecuteTime": {
     "end_time": "2024-05-18T07:38:27.873285Z",
     "start_time": "2024-05-18T07:38:27.857553Z"
    }
   },
   "cell_type": "code",
   "source": "%pwd",
   "id": "6176d679c9d7400c",
   "outputs": [
    {
     "data": {
      "text/plain": [
       "'C:\\\\Users\\\\sraj2\\\\PycharmProjects\\\\chest-cancer-classification'"
      ]
     },
     "execution_count": 4,
     "metadata": {},
     "output_type": "execute_result"
    }
   ],
   "execution_count": 4
  },
  {
   "metadata": {
    "ExecuteTime": {
     "end_time": "2024-05-18T07:39:18.592731Z",
     "start_time": "2024-05-18T07:39:18.578958Z"
    }
   },
   "cell_type": "code",
   "source": [
    "from dataclasses import dataclass\n",
    "from pathlib import Path\n",
    "\n",
    "\n",
    "@dataclass(frozen=True)\n",
    "class TrainingConfig:\n",
    "    root_dir: Path\n",
    "    trained_model_path: Path\n",
    "    updated_base_model_path: Path\n",
    "    training_data: Path\n",
    "    params_epochs: int\n",
    "    params_batch_size: int\n",
    "    params_is_augmentation: bool\n",
    "    params_image_size: list"
   ],
   "id": "503e1907e8a6a641",
   "outputs": [],
   "execution_count": 5
  },
  {
   "metadata": {
    "ExecuteTime": {
     "end_time": "2024-05-18T07:39:30.486700Z",
     "start_time": "2024-05-18T07:39:25.219911Z"
    }
   },
   "cell_type": "code",
   "source": [
    "from cnnClassifier.constants import *\n",
    "from cnnClassifier.utils.common import read_yaml, create_directories\n",
    "import tensorflow as tf"
   ],
   "id": "676a07176c5cc762",
   "outputs": [
    {
     "name": "stdout",
     "output_type": "stream",
     "text": [
      "[2024-05-18 13:09:29,649: INFO: utils: Note: NumExpr detected 16 cores but \"NUMEXPR_MAX_THREADS\" not set, so enforcing safe limit of 8.]\n",
      "[2024-05-18 13:09:29,650: INFO: utils: NumExpr defaulting to 8 threads.]\n"
     ]
    }
   ],
   "execution_count": 6
  },
  {
   "metadata": {
    "ExecuteTime": {
     "end_time": "2024-05-18T07:39:40.784464Z",
     "start_time": "2024-05-18T07:39:40.768492Z"
    }
   },
   "cell_type": "code",
   "source": [
    "class ConfigurationManager:\n",
    "    def __init__(\n",
    "        self,\n",
    "        config_filepath = CONFIG_FILE_PATH,\n",
    "        params_filepath = PARAMS_FILE_PATH):\n",
    "\n",
    "        self.config = read_yaml(config_filepath)\n",
    "        self.params = read_yaml(params_filepath)\n",
    "\n",
    "        create_directories([self.config.artifacts_root])\n",
    "\n",
    "        \n",
    "\n",
    "    def get_training_config(self) -> TrainingConfig:\n",
    "        training = self.config.training\n",
    "        prepare_base_model = self.config.prepare_base_model\n",
    "        params = self.params\n",
    "        training_data = os.path.join(self.config.data_ingestion.unzip_dir, \"Chest-CT-Scan-data\")\n",
    "        create_directories([\n",
    "            Path(training.root_dir)\n",
    "        ])\n",
    "\n",
    "        training_config = TrainingConfig(\n",
    "            root_dir=Path(training.root_dir),\n",
    "            trained_model_path=Path(training.trained_model_path),\n",
    "            updated_base_model_path=Path(prepare_base_model.updated_base_model_path),\n",
    "            training_data=Path(training_data),\n",
    "            params_epochs=params.EPOCHS,\n",
    "            params_batch_size=params.BATCH_SIZE,\n",
    "            params_is_augmentation=params.AUGMENTATION,\n",
    "            params_image_size=params.IMAGE_SIZE\n",
    "        )\n",
    "\n",
    "        return training_config"
   ],
   "id": "70ef51c50dbcee42",
   "outputs": [],
   "execution_count": 7
  },
  {
   "metadata": {
    "ExecuteTime": {
     "end_time": "2024-05-18T07:39:50.316046Z",
     "start_time": "2024-05-18T07:39:50.300441Z"
    }
   },
   "cell_type": "code",
   "source": [
    "import os\n",
    "import urllib.request as request\n",
    "from zipfile import ZipFile\n",
    "import tensorflow as tf\n",
    "import time"
   ],
   "id": "44c40f6b33ef7614",
   "outputs": [],
   "execution_count": 8
  },
  {
   "metadata": {
    "ExecuteTime": {
     "end_time": "2024-05-18T07:40:56.476968Z",
     "start_time": "2024-05-18T07:40:56.461435Z"
    }
   },
   "cell_type": "code",
   "source": [
    "class Training:\n",
    "    def __init__(self, config: TrainingConfig):\n",
    "        self.config = config\n",
    "\n",
    "    \n",
    "    def get_base_model(self):\n",
    "        self.model = tf.keras.models.load_model(\n",
    "            self.config.updated_base_model_path\n",
    "        )\n",
    "\n",
    "    def train_valid_generator(self):\n",
    "\n",
    "        datagenerator_kwargs = dict(\n",
    "            rescale = 1./255,\n",
    "            validation_split=0.20\n",
    "        )\n",
    "\n",
    "        dataflow_kwargs = dict(\n",
    "            target_size=self.config.params_image_size[:-1],\n",
    "            batch_size=self.config.params_batch_size,\n",
    "            interpolation=\"bilinear\"\n",
    "        )\n",
    "\n",
    "        valid_datagenerator = tf.keras.preprocessing.image.ImageDataGenerator(\n",
    "            **datagenerator_kwargs\n",
    "        )\n",
    "\n",
    "        self.valid_generator = valid_datagenerator.flow_from_directory(\n",
    "            directory=self.config.training_data,\n",
    "            subset=\"validation\",\n",
    "            shuffle=False,\n",
    "            **dataflow_kwargs\n",
    "        )\n",
    "        \n",
    "        if self.config.params_is_augmentation:\n",
    "            train_datagenerator = tf.keras.preprocessing.image.ImageDataGenerator(\n",
    "                rotation_range=40,\n",
    "                horizontal_flip=True,\n",
    "                width_shift_range=0.2,\n",
    "                height_shift_range=0.2,\n",
    "                shear_range=0.2,\n",
    "                zoom_range=0.2,\n",
    "                **datagenerator_kwargs\n",
    "            )\n",
    "        else:\n",
    "            train_datagenerator = valid_datagenerator\n",
    "\n",
    "        self.train_generator = train_datagenerator.flow_from_directory(\n",
    "            directory=self.config.training_data,\n",
    "            subset=\"training\",\n",
    "            shuffle=True,\n",
    "            **dataflow_kwargs\n",
    "        )\n",
    "\n",
    "    \n",
    "    @staticmethod\n",
    "    def save_model(path: Path, model: tf.keras.Model):\n",
    "        model.save(path)\n",
    "\n",
    "\n",
    "\n",
    "    \n",
    "    def train(self):\n",
    "        self.steps_per_epoch = self.train_generator.samples // self.train_generator.batch_size\n",
    "        self.validation_steps = self.valid_generator.samples // self.valid_generator.batch_size\n",
    "\n",
    "        self.model.fit(\n",
    "            self.train_generator,\n",
    "            epochs=self.config.params_epochs,\n",
    "            steps_per_epoch=self.steps_per_epoch,\n",
    "            validation_steps=self.validation_steps,\n",
    "            validation_data=self.valid_generator\n",
    "        )\n",
    "        \n",
    "        self.save_model(\n",
    "            path=self.config.trained_model_path,\n",
    "            model=self.model\n",
    "        )\n",
    "        \n",
    "    "
   ],
   "id": "15d171dc8b361997",
   "outputs": [],
   "execution_count": 9
  },
  {
   "metadata": {
    "ExecuteTime": {
     "end_time": "2024-05-18T07:51:20.795199Z",
     "start_time": "2024-05-18T07:49:11.012249Z"
    }
   },
   "cell_type": "code",
   "source": [
    "try:\n",
    "    config = ConfigurationManager()\n",
    "    training_config = config.get_training_config()\n",
    "    training = Training(config=training_config)\n",
    "    training.get_base_model()\n",
    "    training.train_valid_generator()\n",
    "    training.train()\n",
    "    \n",
    "except Exception as e:\n",
    "    raise e"
   ],
   "id": "9c3bafb5a1fe0a4d",
   "outputs": [
    {
     "name": "stdout",
     "output_type": "stream",
     "text": [
      "[2024-05-18 13:19:11,015: INFO: common: yaml file: config\\config.yaml loaded successfully]\n",
      "[2024-05-18 13:19:11,023: INFO: common: yaml file: params.yaml loaded successfully]\n",
      "[2024-05-18 13:19:11,026: INFO: common: created directory at: artifacts]\n",
      "[2024-05-18 13:19:11,030: INFO: common: created directory at: artifacts\\training]\n",
      "Found 68 images belonging to 2 classes.\n",
      "Found 275 images belonging to 2 classes.\n",
      "Epoch 1/10\n",
      "17/17 [==============================] - 13s 747ms/step - loss: 17.3095 - accuracy: 0.4903 - val_loss: 1.0770 - val_accuracy: 0.7969\n",
      "Epoch 2/10\n",
      "17/17 [==============================] - 13s 759ms/step - loss: 13.4729 - accuracy: 0.5290 - val_loss: 16.3288 - val_accuracy: 0.6094\n",
      "Epoch 3/10\n",
      "17/17 [==============================] - 13s 775ms/step - loss: 10.1565 - accuracy: 0.6023 - val_loss: 0.5256 - val_accuracy: 0.8750\n",
      "Epoch 4/10\n",
      "17/17 [==============================] - 13s 760ms/step - loss: 10.2121 - accuracy: 0.5946 - val_loss: 0.0325 - val_accuracy: 0.9844\n",
      "Epoch 5/10\n",
      "17/17 [==============================] - 13s 752ms/step - loss: 6.2620 - accuracy: 0.7606 - val_loss: 0.0012 - val_accuracy: 1.0000\n",
      "Epoch 6/10\n",
      "17/17 [==============================] - 13s 750ms/step - loss: 3.8701 - accuracy: 0.7876 - val_loss: 0.3138 - val_accuracy: 0.9375\n",
      "Epoch 7/10\n",
      "17/17 [==============================] - 13s 752ms/step - loss: 0.8200 - accuracy: 0.8919 - val_loss: 8.0486e-04 - val_accuracy: 1.0000\n",
      "Epoch 8/10\n",
      "17/17 [==============================] - 13s 751ms/step - loss: 2.9507 - accuracy: 0.7915 - val_loss: 0.0053 - val_accuracy: 1.0000\n",
      "Epoch 9/10\n",
      "17/17 [==============================] - 13s 754ms/step - loss: 1.8440 - accuracy: 0.8224 - val_loss: 0.1768 - val_accuracy: 0.9688\n",
      "Epoch 10/10\n",
      "17/17 [==============================] - 13s 753ms/step - loss: 0.9215 - accuracy: 0.8726 - val_loss: 1.3942 - val_accuracy: 0.8750\n"
     ]
    }
   ],
   "execution_count": 10
  },
  {
   "metadata": {},
   "cell_type": "code",
   "outputs": [],
   "execution_count": null,
   "source": "",
   "id": "a9213ce21602266e"
  }
 ],
 "metadata": {
  "kernelspec": {
   "display_name": "Python 3",
   "language": "python",
   "name": "python3"
  },
  "language_info": {
   "codemirror_mode": {
    "name": "ipython",
    "version": 2
   },
   "file_extension": ".py",
   "mimetype": "text/x-python",
   "name": "python",
   "nbconvert_exporter": "python",
   "pygments_lexer": "ipython2",
   "version": "2.7.6"
  }
 },
 "nbformat": 4,
 "nbformat_minor": 5
}
